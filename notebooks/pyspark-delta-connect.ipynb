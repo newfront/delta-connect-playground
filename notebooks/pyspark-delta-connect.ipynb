{
 "cells": [
  {
   "cell_type": "code",
   "execution_count": 1,
   "id": "acc272a7-a7b1-4c22-a9ca-ea5371214be4",
   "metadata": {},
   "outputs": [],
   "source": [
    "from pyspark.sql import SparkSession\n",
    "spark_session = SparkSession.builder.remote(\"sc://delta-connect-server\").getOrCreate()"
   ]
  },
  {
   "cell_type": "code",
   "execution_count": 2,
   "id": "529bf3da-a157-49d2-8e90-c97acd9acd0f",
   "metadata": {},
   "outputs": [
    {
     "data": {
      "text/plain": [
       "pyspark.sql.connect.session.SparkSession"
      ]
     },
     "execution_count": 2,
     "metadata": {},
     "output_type": "execute_result"
    }
   ],
   "source": [
    "type(spark_session)"
   ]
  },
  {
   "cell_type": "code",
   "execution_count": 3,
   "id": "589eaac0-9cb5-43e9-a40e-d59fe7fd496c",
   "metadata": {},
   "outputs": [],
   "source": [
    "from pyspark.sql.functions import col, to_date, to_timestamp\n",
    "from pyspark.sql.types import StructType, StructField, StringType, IntegerType, LongType, FloatType"
   ]
  },
  {
   "cell_type": "code",
   "execution_count": 4,
   "id": "6c1138eb-4450-4e60-8ea6-a9e3b466126f",
   "metadata": {},
   "outputs": [],
   "source": [
    "from pyspark.sql.types import StructType, StructField, StringType, IntegerType, LongType, FloatType\n",
    "schema = (StructType([\n",
    "    StructField(\"event_time\", StringType(), False),\n",
    "    StructField(\"event_type\", StringType(), False),\n",
    "    StructField(\"product_id\", IntegerType(), False),\n",
    "    StructField(\"category_id\", LongType(), False),\n",
    "    StructField(\"category_code\", StringType(), False),\n",
    "    StructField(\"brand\", StringType(), False),\n",
    "    StructField(\"price\", FloatType(), False),\n",
    "    StructField(\"user_id\", IntegerType(), False),\n",
    "    StructField(\"user_session\", StringType(), False),\n",
    "]))"
   ]
  },
  {
   "cell_type": "code",
   "execution_count": 5,
   "id": "fc77ecf6-f23a-4d42-b0ac-b3a49f243aa3",
   "metadata": {},
   "outputs": [
    {
     "data": {
      "text/plain": [
       "StructType([StructField('event_time', StringType(), False), StructField('event_type', StringType(), False), StructField('product_id', IntegerType(), False), StructField('category_id', LongType(), False), StructField('category_code', StringType(), False), StructField('brand', StringType(), False), StructField('price', FloatType(), False), StructField('user_id', IntegerType(), False), StructField('user_session', StringType(), False)])"
      ]
     },
     "execution_count": 5,
     "metadata": {},
     "output_type": "execute_result"
    }
   ],
   "source": [
    "schema"
   ]
  },
  {
   "cell_type": "code",
   "execution_count": 6,
   "id": "9a5584ed-f7da-4cc1-9dd3-970b5f5d701f",
   "metadata": {},
   "outputs": [],
   "source": [
    "dataset_dir = '/opt/spark/work-dir/datasets/ecomm_raw/'"
   ]
  },
  {
   "cell_type": "code",
   "execution_count": 11,
   "id": "6ba2a132-41e1-41c4-881f-1886f939ebb6",
   "metadata": {},
   "outputs": [],
   "source": [
    "datasets = ['2019-Oct.csv', '2019-Nov.csv']"
   ]
  },
  {
   "cell_type": "code",
   "execution_count": 12,
   "id": "388e118a-e28f-452b-9936-8363044f39b8",
   "metadata": {},
   "outputs": [],
   "source": [
    "october_data = datasets[0]\n",
    "november_data = datasets[1]"
   ]
  },
  {
   "cell_type": "code",
   "execution_count": 8,
   "id": "6e86bd7a-bb17-4d0c-9885-6fa101dce411",
   "metadata": {},
   "outputs": [],
   "source": [
    "ecomm_df = (\n",
    "    spark.read.format(\"csv\")\n",
    "    .option(\"header\", True)\n",
    "    .schema(schema)\n",
    "    .load(f\"{dataset_dir}/{october_data}\")\n",
    ")"
   ]
  },
  {
   "cell_type": "code",
   "execution_count": 9,
   "id": "b6e5d707-2060-4dff-bf3e-904dae567295",
   "metadata": {},
   "outputs": [
    {
     "name": "stdout",
     "output_type": "stream",
     "text": [
      "+--------------------+----------+----------+-------------------+--------------------+--------+-------+---------+--------------------+\n",
      "|          event_time|event_type|product_id|        category_id|       category_code|   brand|  price|  user_id|        user_session|\n",
      "+--------------------+----------+----------+-------------------+--------------------+--------+-------+---------+--------------------+\n",
      "|2019-10-01 00:00:...|      view|  44600062|2103807459595387724|                NULL|shiseido|  35.79|541312140|72d76fde-8bb3-4e0...|\n",
      "|2019-10-01 00:00:...|      view|   3900821|2053013552326770905|appliances.enviro...|    aqua|   33.2|554748717|9333dfbd-b87a-470...|\n",
      "|2019-10-01 00:00:...|      view|  17200506|2053013559792632471|furniture.living_...|    NULL|  543.1|519107250|566511c2-e2e3-422...|\n",
      "|2019-10-01 00:00:...|      view|   1307067|2053013558920217191|  computers.notebook|  lenovo| 251.74|550050854|7c90fc70-0e80-459...|\n",
      "|2019-10-01 00:00:...|      view|   1004237|2053013555631882655|electronics.smart...|   apple|1081.98|535871217|c6bd7419-2748-4c5...|\n",
      "|2019-10-01 00:00:...|      view|   1480613|2053013561092866779|   computers.desktop|  pulser| 908.62|512742880|0d0d91c2-c9c2-4e8...|\n",
      "|2019-10-01 00:00:...|      view|  17300353|2053013553853497655|                NULL|   creed| 380.96|555447699|4fe811e9-91de-46d...|\n",
      "|2019-10-01 00:00:...|      view|  31500053|2053013558031024687|                NULL|luminarc|  41.16|550978835|6280d577-25c8-414...|\n",
      "|2019-10-01 00:00:...|      view|  28719074|2053013565480109009|  apparel.shoes.keds|   baden| 102.71|520571932|ac1cd4e5-a3ce-422...|\n",
      "|2019-10-01 00:00:...|      view|   1004545|2053013555631882655|electronics.smart...|  huawei| 566.01|537918940|406c46ed-90a4-478...|\n",
      "|2019-10-01 00:00:...|      view|   2900536|2053013554776244595|appliances.kitche...|elenberg|  51.46|555158050|b5bdd0b3-4ca2-4c5...|\n",
      "|2019-10-01 00:00:...|      view|   1005011|2053013555631882655|electronics.smart...| samsung| 900.64|530282093|50a293fb-5940-41b...|\n",
      "|2019-10-01 00:00:...|      view|   3900746|2053013552326770905|appliances.enviro...|   haier| 102.38|555444559|98b88fa0-d8fa-4b9...|\n",
      "|2019-10-01 00:00:...|      view|  44600062|2103807459595387724|                NULL|shiseido|  35.79|541312140|72d76fde-8bb3-4e0...|\n",
      "|2019-10-01 00:00:...|      view|  13500240|2053013557099889147|furniture.bedroom...|     brw|  93.18|555446365|7f0062d8-ead0-4e0...|\n",
      "|2019-10-01 00:00:...|      view|  23100006|2053013561638126333|                NULL|    NULL| 357.79|513642368|17566c27-0a8f-450...|\n",
      "|2019-10-01 00:00:...|      view|   1801995|2053013554415534427|electronics.video.tv|   haier| 193.03|537192226|e3151795-c355-4ef...|\n",
      "|2019-10-01 00:00:...|      view|  10900029|2053013555069845885|appliances.kitche...|   bosch|  58.95|519528062|901b9e3c-3f8f-414...|\n",
      "|2019-10-01 00:00:...|      view|   1306631|2053013558920217191|  computers.notebook|      hp| 580.89|550050854|7c90fc70-0e80-459...|\n",
      "|2019-10-01 00:00:...|      view|   1005135|2053013555631882655|electronics.smart...|   apple|1747.79|535871217|c6bd7419-2748-4c5...|\n",
      "+--------------------+----------+----------+-------------------+--------------------+--------+-------+---------+--------------------+\n",
      "only showing top 20 rows\n"
     ]
    }
   ],
   "source": [
    "ecomm_df.show()"
   ]
  },
  {
   "cell_type": "code",
   "execution_count": 10,
   "id": "b6fae8b7-1397-4ab9-b3f8-3018652a52ff",
   "metadata": {},
   "outputs": [
    {
     "data": {
      "text/plain": [
       "42448764"
      ]
     },
     "execution_count": 10,
     "metadata": {},
     "output_type": "execute_result"
    }
   ],
   "source": [
    "ecomm_df.count()"
   ]
  },
  {
   "cell_type": "code",
   "execution_count": 13,
   "id": "cabb4bf7-cdd4-4997-bb3e-b6c2a3bdde86",
   "metadata": {},
   "outputs": [],
   "source": [
    "from pyspark.sql.functions import to_date, to_timestamp\n",
    "spark.conf.set(\"spark.sql.parquet.compression.codec\", \"zstd\")\n",
    "\n",
    "sink_dir = 'sm' if datasets[1].endswith('-sm.csv') else 'lg'\n",
    "\n",
    "(ecomm_df\n",
    "   .withColumn(\"event_time\", to_timestamp(col(\"event_time\"), \"yyyy-MM-dd HH:mm:ss z\"))\n",
    "   .withColumn(\"event_date\", to_date(col(\"event_time\")))\n",
    "   .write\n",
    "   .format(\"parquet\")\n",
    "   .partitionBy(\"event_date\")\n",
    "   .mode(\"append\")\n",
    "   .save(f\"{dataset_dir}/parquet/{sink_dir}\")\n",
    ")"
   ]
  },
  {
   "cell_type": "markdown",
   "id": "cd1b6292-a0db-4ae0-8778-0575b1d55c0b",
   "metadata": {},
   "source": [
    "## Read the Parquet in and Generate new a Delta Lake table\n",
    "> This is testing that spark-connect can write to Delta (the promise of delta-connect) :)\n",
    "\n",
    "```\n",
    "`spark-connect-server`: is where the action happens\n",
    "\n",
    "This means the \"files\" are actually being read on the remote server. So locally, you literally are 'asking' if the operation can be completed server-side. I'm saying this because it isn't immediately apparent \"where\" each operation runs. This was a learning curve (took testing things out)."
   ]
  },
  {
   "cell_type": "code",
   "execution_count": 14,
   "id": "a46a6418-2f8f-4f9d-9192-dd513b9f7747",
   "metadata": {},
   "outputs": [],
   "source": [
    "delta_path = f\"{dataset_dir}/delta\"\n",
    "dl_unmanaged_table = \"ecomm\"\n",
    "\n",
    "# we'll be reading from the remote location\n",
    "source_parquet_dir = f\"{dataset_dir}/parquet/{sink_dir}\"\n",
    "\n",
    "# create a new dataframe reader here\n",
    "source_parquet = (spark.read\n",
    " .format(\"parquet\")\n",
    " .load(source_parquet_dir)\n",
    ")\n"
   ]
  },
  {
   "cell_type": "code",
   "execution_count": 15,
   "id": "32e91c92-2c33-4db7-871f-f7bec9342e03",
   "metadata": {},
   "outputs": [
    {
     "data": {
      "text/plain": [
       "DataFrame[]"
      ]
     },
     "execution_count": 15,
     "metadata": {},
     "output_type": "execute_result"
    }
   ],
   "source": [
    "## Now for the Delta part. Let's create an empty Delta table\n",
    "spark.sql(f\"\"\"\n",
    "    CREATE TABLE IF NOT EXISTS {dl_unmanaged_table} (\n",
    "        event_time TIMESTAMP,\n",
    "        event_type STRING,\n",
    "        product_id INTEGER,\n",
    "        category_id BIGINT,\n",
    "        category_code STRING,\n",
    "        brand STRING,\n",
    "        price FLOAT,\n",
    "        user_id INTEGER,\n",
    "        user_session STRING,\n",
    "        event_date DATE\n",
    "    ) USING DELTA\n",
    "    LOCATION '{delta_path}/{dl_unmanaged_table}'\n",
    "    PARTITIONED BY (event_date)\n",
    "    TBLPROPERTIES('delta.logRetentionDuration'='interval 28 days');\n",
    "   \"\"\")"
   ]
  },
  {
   "cell_type": "code",
   "execution_count": 16,
   "id": "c5620feb-9d7d-45ce-b1b1-a75bdfde442b",
   "metadata": {},
   "outputs": [],
   "source": [
    "## proof is in the pudding as they say...\n",
    "(source_parquet\n",
    " .write\n",
    " .format(\"delta\")\n",
    " .option(\"path\", f\"{delta_path}/{dl_unmanaged_table}\")\n",
    " .mode(\"append\")\n",
    " .save()\n",
    ")"
   ]
  },
  {
   "cell_type": "code",
   "execution_count": 17,
   "id": "99ecf6a0-b9f8-48e2-8175-9fbfa725ef74",
   "metadata": {},
   "outputs": [
    {
     "name": "stdout",
     "output_type": "stream",
     "text": [
      "+-------------------+----------+----------+-------------------+--------------------+--------+------+---------+--------------------+----------+\n",
      "|         event_time|event_type|product_id|        category_id|       category_code|   brand| price|  user_id|        user_session|event_date|\n",
      "+-------------------+----------+----------+-------------------+--------------------+--------+------+---------+--------------------+----------+\n",
      "|2019-10-01 16:59:07|      view|   4400038|2053013555095011711|appliances.kitche...|delonghi|514.79|515969709|47ef1c24-43dd-437...|2019-10-01|\n",
      "|2019-10-01 16:59:07|      view|   2700406|2053013563911439225|appliances.kitche...|    NULL| 262.5|532105499|1ddc1520-df7e-439...|2019-10-01|\n",
      "|2019-10-01 16:59:07|      view|  17800342|2053013559868129947|   computers.desktop|    zeta| 64.84|542176882|0a7fee28-e270-4f6...|2019-10-01|\n",
      "|2019-10-01 16:59:07|      view|  28719049|2053013565639492569|       apparel.shoes|   baden| 94.98|536073885|6480a84b-bd3c-4f2...|2019-10-01|\n",
      "|2019-10-01 16:59:07|      view|  17200249|2053013559792632471|furniture.living_...|    NULL| 831.4|542333256|9838f6d8-8c4d-48e...|2019-10-01|\n",
      "|2019-10-01 16:59:08|      view|   1004874|2053013555631882655|electronics.smart...| samsung|383.51|528061911|f7fee60c-3c04-4a8...|2019-10-01|\n",
      "|2019-10-01 16:59:08|      view|  21404397|2053013561579406073|  electronics.clocks|    NULL| 25.48|553343150|c5b37d54-5d84-400...|2019-10-01|\n",
      "|2019-10-01 16:59:08|      view|  26400467|2053013563651392361|                NULL|    NULL|172.46|542979931|25fa6b03-e109-4f8...|2019-10-01|\n",
      "|2019-10-01 16:59:08|      view|   4802885|2053013554658804075|electronics.audio...|  xiaomi| 37.03|519802074|dd455cdb-8da2-4c7...|2019-10-01|\n",
      "|2019-10-01 16:59:08|      view|   2201037|2053013560555995845|                NULL|   canon| 437.3|536078973|be57a32e-6fba-48c...|2019-10-01|\n",
      "+-------------------+----------+----------+-------------------+--------------------+--------+------+---------+--------------------+----------+\n",
      "only showing top 10 rows\n"
     ]
    }
   ],
   "source": [
    "spark.sql(f\"select * from delta.`{delta_path}/{dl_unmanaged_table}`\").show(10)"
   ]
  },
  {
   "cell_type": "code",
   "execution_count": null,
   "id": "8edb8163-a68a-474c-8c85-ee74396805d8",
   "metadata": {},
   "outputs": [],
   "source": []
  }
 ],
 "metadata": {
  "kernelspec": {
   "display_name": "Python 3 (ipykernel)",
   "language": "python",
   "name": "python3"
  },
  "language_info": {
   "codemirror_mode": {
    "name": "ipython",
    "version": 3
   },
   "file_extension": ".py",
   "mimetype": "text/x-python",
   "name": "python",
   "nbconvert_exporter": "python",
   "pygments_lexer": "ipython3",
   "version": "3.10.12"
  }
 },
 "nbformat": 4,
 "nbformat_minor": 5
}
